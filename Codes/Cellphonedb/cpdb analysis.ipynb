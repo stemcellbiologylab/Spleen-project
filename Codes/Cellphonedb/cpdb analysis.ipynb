{
 "cells": [
  {
   "cell_type": "code",
   "execution_count": 1,
   "id": "4a8df3bc-c224-4fb9-b841-9f9c014efa71",
   "metadata": {},
   "outputs": [],
   "source": [
    "import pandas as pd\n",
    "import glob\n",
    "import os"
   ]
  },
  {
   "cell_type": "code",
   "execution_count": 3,
   "id": "c0fcbcf2-ff82-4bfa-8e9b-64914d909f71",
   "metadata": {},
   "outputs": [
    {
     "ename": "NameError",
     "evalue": "name 'sys' is not defined",
     "output_type": "error",
     "traceback": [
      "\u001b[0;31m---------------------------------------------------------------------------\u001b[0m",
      "\u001b[0;31mNameError\u001b[0m                                 Traceback (most recent call last)",
      "Cell \u001b[0;32mIn[3], line 1\u001b[0m\n\u001b[0;32m----> 1\u001b[0m \u001b[38;5;28mprint\u001b[39m(\u001b[43msys\u001b[49m\u001b[38;5;241m.\u001b[39mversion)\n",
      "\u001b[0;31mNameError\u001b[0m: name 'sys' is not defined"
     ]
    }
   ],
   "source": [
    "print(sys.version)"
   ]
  },
  {
   "cell_type": "code",
   "execution_count": 12,
   "id": "76cdcbf6-d013-40e9-b4bc-c3779ee3a807",
   "metadata": {},
   "outputs": [],
   "source": [
    "cpdb_file_path = '/home/sklab/miniconda3/envs/cpdb/cpdb_tutorial/db/test/v5.0.0/cellphonedb.zip'\n",
    "meta_file_path = '/home/sklab/spleen PPI/metadata.csv'\n",
    "counts_file_path = '/home/sklab/spleen PPI/input_cpdb.csv'\n",
    "out_path = '/home/sklab/spleen PPI/'\n",
    "\n"
   ]
  },
  {
   "cell_type": "code",
   "execution_count": 13,
   "id": "ca7e4870-a88e-4a5d-92d3-d3dadb4ec10c",
   "metadata": {},
   "outputs": [],
   "source": [
    "meta_file_path = '/home/sklab/spleen PPI/metadata.csv'"
   ]
  },
  {
   "cell_type": "code",
   "execution_count": 14,
   "id": "0e7dae12-0508-4e6a-9f52-f802b2d287b3",
   "metadata": {},
   "outputs": [],
   "source": [
    "metadata = pd.read_csv(meta_file_path, sep = '\\t')"
   ]
  },
  {
   "cell_type": "code",
   "execution_count": 15,
   "id": "582e39b3-17d1-48a0-9ae4-5d1752be770f",
   "metadata": {},
   "outputs": [
    {
     "data": {
      "text/html": [
       "<div>\n",
       "<style scoped>\n",
       "    .dataframe tbody tr th:only-of-type {\n",
       "        vertical-align: middle;\n",
       "    }\n",
       "\n",
       "    .dataframe tbody tr th {\n",
       "        vertical-align: top;\n",
       "    }\n",
       "\n",
       "    .dataframe thead th {\n",
       "        text-align: right;\n",
       "    }\n",
       "</style>\n",
       "<table border=\"1\" class=\"dataframe\">\n",
       "  <thead>\n",
       "    <tr style=\"text-align: right;\">\n",
       "      <th></th>\n",
       "      <th>Cell,cell_type</th>\n",
       "    </tr>\n",
       "  </thead>\n",
       "  <tbody>\n",
       "    <tr>\n",
       "      <th>0</th>\n",
       "      <td>cell_type1,TB</td>\n",
       "    </tr>\n",
       "    <tr>\n",
       "      <th>1</th>\n",
       "      <td>cell_type2,ST</td>\n",
       "    </tr>\n",
       "    <tr>\n",
       "      <th>2</th>\n",
       "      <td>cell_type3,LSK</td>\n",
       "    </tr>\n",
       "  </tbody>\n",
       "</table>\n",
       "</div>"
      ],
      "text/plain": [
       "   Cell,cell_type\n",
       "0   cell_type1,TB\n",
       "1   cell_type2,ST\n",
       "2  cell_type3,LSK"
      ]
     },
     "execution_count": 15,
     "metadata": {},
     "output_type": "execute_result"
    }
   ],
   "source": [
    "metadata.head(3)"
   ]
  },
  {
   "cell_type": "code",
   "execution_count": 16,
   "id": "5adf3835-6542-4767-b2f5-3243db509419",
   "metadata": {},
   "outputs": [],
   "source": [
    "countfile = pd.read_csv(counts_file_path, sep = '\\t')"
   ]
  },
  {
   "cell_type": "code",
   "execution_count": 17,
   "id": "7db2c43b-2ec0-4a0e-b843-d46276917082",
   "metadata": {},
   "outputs": [
    {
     "data": {
      "text/plain": [
       "(41, 1)"
      ]
     },
     "execution_count": 17,
     "metadata": {},
     "output_type": "execute_result"
    }
   ],
   "source": [
    "countfile.shape"
   ]
  },
  {
   "cell_type": "code",
   "execution_count": 18,
   "id": "745d39c2-ab41-4929-937b-0b63a85fc6f7",
   "metadata": {},
   "outputs": [
    {
     "data": {
      "text/html": [
       "<div>\n",
       "<style scoped>\n",
       "    .dataframe tbody tr th:only-of-type {\n",
       "        vertical-align: middle;\n",
       "    }\n",
       "\n",
       "    .dataframe tbody tr th {\n",
       "        vertical-align: top;\n",
       "    }\n",
       "\n",
       "    .dataframe thead th {\n",
       "        text-align: right;\n",
       "    }\n",
       "</style>\n",
       "<table border=\"1\" class=\"dataframe\">\n",
       "  <thead>\n",
       "    <tr style=\"text-align: right;\">\n",
       "      <th></th>\n",
       "      <th>ProteinID,cell_type1,cell_type2,cell_type3</th>\n",
       "    </tr>\n",
       "  </thead>\n",
       "  <tbody>\n",
       "    <tr>\n",
       "      <th>0</th>\n",
       "      <td>COL1A1,298.95,0.433333333,0.65</td>\n",
       "    </tr>\n",
       "    <tr>\n",
       "      <th>1</th>\n",
       "      <td>COL4A1,282.9333333,12.26666667,4.816666667</td>\n",
       "    </tr>\n",
       "    <tr>\n",
       "      <th>2</th>\n",
       "      <td>COL6A1,298.5333333,0.933333333,0.68</td>\n",
       "    </tr>\n",
       "  </tbody>\n",
       "</table>\n",
       "</div>"
      ],
      "text/plain": [
       "   ProteinID,cell_type1,cell_type2,cell_type3\n",
       "0              COL1A1,298.95,0.433333333,0.65\n",
       "1  COL4A1,282.9333333,12.26666667,4.816666667\n",
       "2         COL6A1,298.5333333,0.933333333,0.68"
      ]
     },
     "execution_count": 18,
     "metadata": {},
     "output_type": "execute_result"
    }
   ],
   "source": [
    "countfile.head(3)"
   ]
  },
  {
   "cell_type": "code",
   "execution_count": 19,
   "id": "76eb6d72-e56d-40a2-ad41-ec1d88e287d6",
   "metadata": {},
   "outputs": [],
   "source": [
    "from cellphonedb.src.core.methods import cpdb_analysis_method\n"
   ]
  },
  {
   "cell_type": "code",
   "execution_count": 19,
   "id": "bacb2d0b-3a02-4128-af1d-ce0b419043a4",
   "metadata": {},
   "outputs": [
    {
     "name": "stdout",
     "output_type": "stream",
     "text": [
      "[ ][CORE][04/06/24-21:53:53][INFO] [Non Statistical Method] Threshold:0.1 Precision:3\n",
      "Reading user files...\n",
      "The following user files were loaded successfully:\n",
      "/home/sklab/spleen PPI/input_cpdb.csv\n",
      "/home/sklab/spleen PPI/metadata.csv\n",
      "[ ][CORE][04/06/24-21:53:54][INFO] Running Basic Analysis\n",
      "[ ][CORE][04/06/24-21:53:54][INFO] Building results\n",
      "[ ][CORE][04/06/24-21:53:54][INFO] Scoring interactions: Filtering genes per cell type..\n"
     ]
    },
    {
     "name": "stderr",
     "output_type": "stream",
     "text": [
      "100%|██████████████████████████████████████████| 3/3 [00:00<00:00, 1118.78it/s]"
     ]
    },
    {
     "name": "stdout",
     "output_type": "stream",
     "text": [
      "[ ][CORE][04/06/24-21:53:54][INFO] Scoring interactions: Calculating mean expression of each gene per group/cell type..\n"
     ]
    },
    {
     "name": "stderr",
     "output_type": "stream",
     "text": [
      "\n",
      "100%|██████████████████████████████████████████| 3/3 [00:00<00:00, 2645.69it/s]"
     ]
    },
    {
     "name": "stdout",
     "output_type": "stream",
     "text": [
      "[ ][CORE][04/06/24-21:53:54][INFO] Scoring interactions: Calculating scores for all interactions and cell types..\n"
     ]
    },
    {
     "name": "stderr",
     "output_type": "stream",
     "text": [
      "\n",
      "100%|███████████████████████████████████████████| 9/9 [00:00<00:00, 900.24it/s]"
     ]
    },
    {
     "name": "stdout",
     "output_type": "stream",
     "text": [
      "Saved means_result to /home/sklab/spleen PPI/simple_analysis_means_result_06_04_2024_215354.txt\n",
      "Saved deconvoluted to /home/sklab/spleen PPI/simple_analysis_deconvoluted_06_04_2024_215354.txt\n",
      "Saved deconvoluted_percents to /home/sklab/spleen PPI/simple_analysis_deconvoluted_percents_06_04_2024_215354.txt\n",
      "Saved interaction_scores to /home/sklab/spleen PPI/simple_analysis_interaction_scores_06_04_2024_215354.txt\n"
     ]
    },
    {
     "name": "stderr",
     "output_type": "stream",
     "text": [
      "\n"
     ]
    }
   ],
   "source": [
    "cpdb_results = cpdb_analysis_method.call(\n",
    "    cpdb_file_path = cpdb_file_path,           # mandatory: CellphoneDB database zip file.\n",
    "    meta_file_path = meta_file_path,           # mandatory: tsv file defining barcodes to cell label.\n",
    "    counts_file_path = counts_file_path,       # mandatory: normalized count matrix - a path to the counts file, or an in-memory AnnData object\n",
    "    counts_data = 'hgnc_symbol',               # defines the gene annotation in counts matrix.\n",
    "     # optional (default: None): defines cells per microenvironment.\n",
    "    score_interactions = True,                 # optional: whether to score interactions or not. \n",
    "    output_path = out_path,                    # Path to save results    microenvs_file_path = None,\n",
    "    separator = '|',                           # Sets the string to employ to separate cells in the results dataframes \"cellA|CellB\".\n",
    "    threads = 5,                               # number of threads to use in the analysis.\n",
    "    threshold = 0.1,                           # defines the min % of cells expressing a gene for this to be employed in the analysis.\n",
    "    result_precision = 3,                      # Sets the rounding for the mean values in significan_means.\n",
    "    debug = False,                             # Saves all intermediate tables emplyed during the analysis in pkl format.\n",
    "    output_suffix = None                       # Replaces the timestamp in the output files by a user defined string in the  (default: None)\n",
    ")\n"
   ]
  },
  {
   "cell_type": "code",
   "execution_count": 20,
   "id": "331f2a99-6dcc-400c-b80f-5fcfafafd52c",
   "metadata": {},
   "outputs": [
    {
     "name": "stdout",
     "output_type": "stream",
     "text": [
      "dict_keys(['means_result', 'deconvoluted', 'deconvoluted_percents', 'interaction_scores'])\n"
     ]
    }
   ],
   "source": [
    "print(cpdb_results.keys())"
   ]
  },
  {
   "cell_type": "code",
   "execution_count": 21,
   "id": "c4d12e4c-1373-4286-9b8f-2f50440e67f7",
   "metadata": {},
   "outputs": [
    {
     "data": {
      "text/html": [
       "<div>\n",
       "<style scoped>\n",
       "    .dataframe tbody tr th:only-of-type {\n",
       "        vertical-align: middle;\n",
       "    }\n",
       "\n",
       "    .dataframe tbody tr th {\n",
       "        vertical-align: top;\n",
       "    }\n",
       "\n",
       "    .dataframe thead th {\n",
       "        text-align: right;\n",
       "    }\n",
       "</style>\n",
       "<table border=\"1\" class=\"dataframe\">\n",
       "  <thead>\n",
       "    <tr style=\"text-align: right;\">\n",
       "      <th></th>\n",
       "      <th>id_cp_interaction</th>\n",
       "      <th>interacting_pair</th>\n",
       "      <th>partner_a</th>\n",
       "      <th>partner_b</th>\n",
       "      <th>gene_a</th>\n",
       "      <th>gene_b</th>\n",
       "      <th>secreted</th>\n",
       "      <th>receptor_a</th>\n",
       "      <th>receptor_b</th>\n",
       "      <th>annotation_strategy</th>\n",
       "      <th>...</th>\n",
       "      <th>classification</th>\n",
       "      <th>LSK|LSK</th>\n",
       "      <th>LSK|ST</th>\n",
       "      <th>LSK|TB</th>\n",
       "      <th>ST|LSK</th>\n",
       "      <th>ST|ST</th>\n",
       "      <th>ST|TB</th>\n",
       "      <th>TB|LSK</th>\n",
       "      <th>TB|ST</th>\n",
       "      <th>TB|TB</th>\n",
       "    </tr>\n",
       "  </thead>\n",
       "  <tbody>\n",
       "    <tr>\n",
       "      <th>4</th>\n",
       "      <td>CPI-SC0B86B7CED</td>\n",
       "      <td>COL12A1_integrin_a2b1_complex</td>\n",
       "      <td>simple:Q99715</td>\n",
       "      <td>complex:integrin_a2b1_complex</td>\n",
       "      <td>COL12A1</td>\n",
       "      <td>NaN</td>\n",
       "      <td>True</td>\n",
       "      <td>False</td>\n",
       "      <td>False</td>\n",
       "      <td>curated</td>\n",
       "      <td>...</td>\n",
       "      <td>Adhesion by Collagen/Integrin</td>\n",
       "      <td>0.1</td>\n",
       "      <td>0.1</td>\n",
       "      <td>0.1</td>\n",
       "      <td>13.150</td>\n",
       "      <td>13.150</td>\n",
       "      <td>13.150</td>\n",
       "      <td>134.332993</td>\n",
       "      <td>134.332993</td>\n",
       "      <td>134.332993</td>\n",
       "    </tr>\n",
       "    <tr>\n",
       "      <th>6</th>\n",
       "      <td>CPI-SC0CCCF9A7F</td>\n",
       "      <td>COL14A1_integrin_a2b1_complex</td>\n",
       "      <td>simple:Q05707</td>\n",
       "      <td>complex:integrin_a2b1_complex</td>\n",
       "      <td>COL14A1</td>\n",
       "      <td>NaN</td>\n",
       "      <td>True</td>\n",
       "      <td>False</td>\n",
       "      <td>False</td>\n",
       "      <td>curated</td>\n",
       "      <td>...</td>\n",
       "      <td>Adhesion by Collagen/Integrin</td>\n",
       "      <td>0.1</td>\n",
       "      <td>0.1</td>\n",
       "      <td>0.1</td>\n",
       "      <td>1.858</td>\n",
       "      <td>1.858</td>\n",
       "      <td>1.858</td>\n",
       "      <td>143.800003</td>\n",
       "      <td>143.800003</td>\n",
       "      <td>143.800003</td>\n",
       "    </tr>\n",
       "  </tbody>\n",
       "</table>\n",
       "<p>2 rows × 22 columns</p>\n",
       "</div>"
      ],
      "text/plain": [
       "  id_cp_interaction               interacting_pair      partner_a  \\\n",
       "4   CPI-SC0B86B7CED  COL12A1_integrin_a2b1_complex  simple:Q99715   \n",
       "6   CPI-SC0CCCF9A7F  COL14A1_integrin_a2b1_complex  simple:Q05707   \n",
       "\n",
       "                       partner_b   gene_a gene_b  secreted  receptor_a  \\\n",
       "4  complex:integrin_a2b1_complex  COL12A1    NaN      True       False   \n",
       "6  complex:integrin_a2b1_complex  COL14A1    NaN      True       False   \n",
       "\n",
       "   receptor_b annotation_strategy  ...                 classification LSK|LSK  \\\n",
       "4       False             curated  ...  Adhesion by Collagen/Integrin     0.1   \n",
       "6       False             curated  ...  Adhesion by Collagen/Integrin     0.1   \n",
       "\n",
       "  LSK|ST  LSK|TB  ST|LSK   ST|ST   ST|TB      TB|LSK       TB|ST       TB|TB  \n",
       "4    0.1     0.1  13.150  13.150  13.150  134.332993  134.332993  134.332993  \n",
       "6    0.1     0.1   1.858   1.858   1.858  143.800003  143.800003  143.800003  \n",
       "\n",
       "[2 rows x 22 columns]"
      ]
     },
     "execution_count": 21,
     "metadata": {},
     "output_type": "execute_result"
    }
   ],
   "source": [
    "cpdb_results['means_result'].head(2)\n",
    "\n"
   ]
  },
  {
   "cell_type": "code",
   "execution_count": 22,
   "id": "4daea026-dd1f-4898-b53e-fe386d41020c",
   "metadata": {},
   "outputs": [
    {
     "data": {
      "text/html": [
       "<div>\n",
       "<style scoped>\n",
       "    .dataframe tbody tr th:only-of-type {\n",
       "        vertical-align: middle;\n",
       "    }\n",
       "\n",
       "    .dataframe tbody tr th {\n",
       "        vertical-align: top;\n",
       "    }\n",
       "\n",
       "    .dataframe thead th {\n",
       "        text-align: right;\n",
       "    }\n",
       "</style>\n",
       "<table border=\"1\" class=\"dataframe\">\n",
       "  <thead>\n",
       "    <tr style=\"text-align: right;\">\n",
       "      <th></th>\n",
       "      <th>id_cp_interaction</th>\n",
       "      <th>interacting_pair</th>\n",
       "      <th>partner_a</th>\n",
       "      <th>partner_b</th>\n",
       "      <th>gene_a</th>\n",
       "      <th>gene_b</th>\n",
       "      <th>secreted</th>\n",
       "      <th>receptor_a</th>\n",
       "      <th>receptor_b</th>\n",
       "      <th>annotation_strategy</th>\n",
       "      <th>...</th>\n",
       "      <th>classification</th>\n",
       "      <th>LSK|LSK</th>\n",
       "      <th>LSK|ST</th>\n",
       "      <th>LSK|TB</th>\n",
       "      <th>ST|LSK</th>\n",
       "      <th>ST|ST</th>\n",
       "      <th>ST|TB</th>\n",
       "      <th>TB|LSK</th>\n",
       "      <th>TB|ST</th>\n",
       "      <th>TB|TB</th>\n",
       "    </tr>\n",
       "  </thead>\n",
       "  <tbody>\n",
       "    <tr>\n",
       "      <th>4</th>\n",
       "      <td>CPI-SC0B86B7CED</td>\n",
       "      <td>COL12A1_integrin_a2b1_complex</td>\n",
       "      <td>simple:Q99715</td>\n",
       "      <td>complex:integrin_a2b1_complex</td>\n",
       "      <td>COL12A1</td>\n",
       "      <td>NaN</td>\n",
       "      <td>True</td>\n",
       "      <td>False</td>\n",
       "      <td>False</td>\n",
       "      <td>curated</td>\n",
       "      <td>...</td>\n",
       "      <td>Adhesion by Collagen/Integrin</td>\n",
       "      <td>0.0</td>\n",
       "      <td>0.0</td>\n",
       "      <td>0.0</td>\n",
       "      <td>9.722</td>\n",
       "      <td>0.0</td>\n",
       "      <td>0.0</td>\n",
       "      <td>100.0</td>\n",
       "      <td>0.0</td>\n",
       "      <td>0.0</td>\n",
       "    </tr>\n",
       "    <tr>\n",
       "      <th>6</th>\n",
       "      <td>CPI-SC0CCCF9A7F</td>\n",
       "      <td>COL14A1_integrin_a2b1_complex</td>\n",
       "      <td>simple:Q05707</td>\n",
       "      <td>complex:integrin_a2b1_complex</td>\n",
       "      <td>COL14A1</td>\n",
       "      <td>NaN</td>\n",
       "      <td>True</td>\n",
       "      <td>False</td>\n",
       "      <td>False</td>\n",
       "      <td>curated</td>\n",
       "      <td>...</td>\n",
       "      <td>Adhesion by Collagen/Integrin</td>\n",
       "      <td>0.0</td>\n",
       "      <td>0.0</td>\n",
       "      <td>0.0</td>\n",
       "      <td>1.224</td>\n",
       "      <td>0.0</td>\n",
       "      <td>0.0</td>\n",
       "      <td>100.0</td>\n",
       "      <td>0.0</td>\n",
       "      <td>0.0</td>\n",
       "    </tr>\n",
       "  </tbody>\n",
       "</table>\n",
       "<p>2 rows × 22 columns</p>\n",
       "</div>"
      ],
      "text/plain": [
       "  id_cp_interaction               interacting_pair      partner_a  \\\n",
       "4   CPI-SC0B86B7CED  COL12A1_integrin_a2b1_complex  simple:Q99715   \n",
       "6   CPI-SC0CCCF9A7F  COL14A1_integrin_a2b1_complex  simple:Q05707   \n",
       "\n",
       "                       partner_b   gene_a gene_b  secreted  receptor_a  \\\n",
       "4  complex:integrin_a2b1_complex  COL12A1    NaN      True       False   \n",
       "6  complex:integrin_a2b1_complex  COL14A1    NaN      True       False   \n",
       "\n",
       "   receptor_b annotation_strategy  ...                 classification LSK|LSK  \\\n",
       "4       False             curated  ...  Adhesion by Collagen/Integrin     0.0   \n",
       "6       False             curated  ...  Adhesion by Collagen/Integrin     0.0   \n",
       "\n",
       "  LSK|ST  LSK|TB  ST|LSK  ST|ST  ST|TB  TB|LSK  TB|ST  TB|TB  \n",
       "4    0.0     0.0   9.722    0.0    0.0   100.0    0.0    0.0  \n",
       "6    0.0     0.0   1.224    0.0    0.0   100.0    0.0    0.0  \n",
       "\n",
       "[2 rows x 22 columns]"
      ]
     },
     "execution_count": 22,
     "metadata": {},
     "output_type": "execute_result"
    }
   ],
   "source": [
    "cpdb_results['interaction_scores'].head(2)"
   ]
  },
  {
   "cell_type": "code",
   "execution_count": 23,
   "id": "255882e2-e3bd-412d-8232-ee750a0dfb44",
   "metadata": {},
   "outputs": [
    {
     "data": {
      "text/html": [
       "<div>\n",
       "<style scoped>\n",
       "    .dataframe tbody tr th:only-of-type {\n",
       "        vertical-align: middle;\n",
       "    }\n",
       "\n",
       "    .dataframe tbody tr th {\n",
       "        vertical-align: top;\n",
       "    }\n",
       "\n",
       "    .dataframe thead th {\n",
       "        text-align: right;\n",
       "    }\n",
       "</style>\n",
       "<table border=\"1\" class=\"dataframe\">\n",
       "  <thead>\n",
       "    <tr style=\"text-align: right;\">\n",
       "      <th></th>\n",
       "      <th>gene_name</th>\n",
       "      <th>uniprot</th>\n",
       "      <th>is_complex</th>\n",
       "      <th>protein_name</th>\n",
       "      <th>complex_name</th>\n",
       "      <th>id_cp_interaction</th>\n",
       "      <th>gene</th>\n",
       "      <th>LSK</th>\n",
       "      <th>ST</th>\n",
       "      <th>TB</th>\n",
       "    </tr>\n",
       "    <tr>\n",
       "      <th>multidata_id</th>\n",
       "      <th></th>\n",
       "      <th></th>\n",
       "      <th></th>\n",
       "      <th></th>\n",
       "      <th></th>\n",
       "      <th></th>\n",
       "      <th></th>\n",
       "      <th></th>\n",
       "      <th></th>\n",
       "      <th></th>\n",
       "    </tr>\n",
       "  </thead>\n",
       "  <tbody>\n",
       "    <tr>\n",
       "      <th>930</th>\n",
       "      <td>COL12A1</td>\n",
       "      <td>Q99715</td>\n",
       "      <td>False</td>\n",
       "      <td>COCA1_HUMAN</td>\n",
       "      <td>NaN</td>\n",
       "      <td>CPI-SC0B86B7CED</td>\n",
       "      <td>COL12A1</td>\n",
       "      <td>0.1</td>\n",
       "      <td>26.200001</td>\n",
       "      <td>268.566986</td>\n",
       "    </tr>\n",
       "    <tr>\n",
       "      <th>720</th>\n",
       "      <td>COL14A1</td>\n",
       "      <td>Q05707</td>\n",
       "      <td>False</td>\n",
       "      <td>COEA1_HUMAN</td>\n",
       "      <td>NaN</td>\n",
       "      <td>CPI-SC0CCCF9A7F</td>\n",
       "      <td>COL14A1</td>\n",
       "      <td>0.1</td>\n",
       "      <td>3.617000</td>\n",
       "      <td>287.500000</td>\n",
       "    </tr>\n",
       "  </tbody>\n",
       "</table>\n",
       "</div>"
      ],
      "text/plain": [
       "             gene_name uniprot  is_complex protein_name complex_name  \\\n",
       "multidata_id                                                           \n",
       "930            COL12A1  Q99715       False  COCA1_HUMAN          NaN   \n",
       "720            COL14A1  Q05707       False  COEA1_HUMAN          NaN   \n",
       "\n",
       "             id_cp_interaction     gene  LSK         ST          TB  \n",
       "multidata_id                                                         \n",
       "930            CPI-SC0B86B7CED  COL12A1  0.1  26.200001  268.566986  \n",
       "720            CPI-SC0CCCF9A7F  COL14A1  0.1   3.617000  287.500000  "
      ]
     },
     "execution_count": 23,
     "metadata": {},
     "output_type": "execute_result"
    }
   ],
   "source": [
    "cpdb_results['deconvoluted'].head(2)\n"
   ]
  },
  {
   "cell_type": "code",
   "execution_count": 24,
   "id": "d2a70ae2-eaa5-43c2-9bfe-0306e0a7c28b",
   "metadata": {},
   "outputs": [
    {
     "data": {
      "text/html": [
       "<div>\n",
       "<style scoped>\n",
       "    .dataframe tbody tr th:only-of-type {\n",
       "        vertical-align: middle;\n",
       "    }\n",
       "\n",
       "    .dataframe tbody tr th {\n",
       "        vertical-align: top;\n",
       "    }\n",
       "\n",
       "    .dataframe thead th {\n",
       "        text-align: right;\n",
       "    }\n",
       "</style>\n",
       "<table border=\"1\" class=\"dataframe\">\n",
       "  <thead>\n",
       "    <tr style=\"text-align: right;\">\n",
       "      <th></th>\n",
       "      <th>gene_name</th>\n",
       "      <th>uniprot</th>\n",
       "      <th>is_complex</th>\n",
       "      <th>protein_name</th>\n",
       "      <th>complex_name</th>\n",
       "      <th>id_cp_interaction</th>\n",
       "      <th>gene</th>\n",
       "      <th>LSK</th>\n",
       "      <th>ST</th>\n",
       "      <th>TB</th>\n",
       "    </tr>\n",
       "    <tr>\n",
       "      <th>multidata_id</th>\n",
       "      <th></th>\n",
       "      <th></th>\n",
       "      <th></th>\n",
       "      <th></th>\n",
       "      <th></th>\n",
       "      <th></th>\n",
       "      <th></th>\n",
       "      <th></th>\n",
       "      <th></th>\n",
       "      <th></th>\n",
       "    </tr>\n",
       "  </thead>\n",
       "  <tbody>\n",
       "    <tr>\n",
       "      <th>930</th>\n",
       "      <td>COL12A1</td>\n",
       "      <td>Q99715</td>\n",
       "      <td>False</td>\n",
       "      <td>COCA1_HUMAN</td>\n",
       "      <td>NaN</td>\n",
       "      <td>CPI-SC0B86B7CED</td>\n",
       "      <td>COL12A1</td>\n",
       "      <td>1.0</td>\n",
       "      <td>1.0</td>\n",
       "      <td>1.0</td>\n",
       "    </tr>\n",
       "    <tr>\n",
       "      <th>720</th>\n",
       "      <td>COL14A1</td>\n",
       "      <td>Q05707</td>\n",
       "      <td>False</td>\n",
       "      <td>COEA1_HUMAN</td>\n",
       "      <td>NaN</td>\n",
       "      <td>CPI-SC0CCCF9A7F</td>\n",
       "      <td>COL14A1</td>\n",
       "      <td>1.0</td>\n",
       "      <td>1.0</td>\n",
       "      <td>1.0</td>\n",
       "    </tr>\n",
       "  </tbody>\n",
       "</table>\n",
       "</div>"
      ],
      "text/plain": [
       "             gene_name uniprot  is_complex protein_name complex_name  \\\n",
       "multidata_id                                                           \n",
       "930            COL12A1  Q99715       False  COCA1_HUMAN          NaN   \n",
       "720            COL14A1  Q05707       False  COEA1_HUMAN          NaN   \n",
       "\n",
       "             id_cp_interaction     gene  LSK   ST   TB  \n",
       "multidata_id                                            \n",
       "930            CPI-SC0B86B7CED  COL12A1  1.0  1.0  1.0  \n",
       "720            CPI-SC0CCCF9A7F  COL14A1  1.0  1.0  1.0  "
      ]
     },
     "execution_count": 24,
     "metadata": {},
     "output_type": "execute_result"
    }
   ],
   "source": [
    "cpdb_results['deconvoluted_percents'].head(2)\n"
   ]
  },
  {
   "cell_type": "code",
   "execution_count": 26,
   "id": "4b4b9dda-c34a-4661-8c70-3602f032442d",
   "metadata": {},
   "outputs": [],
   "source": [
    "import ktplotspy as kpy\n",
    "import matplotlib.pyplot as plt\n"
   ]
  },
  {
   "cell_type": "code",
   "execution_count": 20,
   "id": "f3ec7c42-2b32-4ef0-bbaa-0baf9b48f512",
   "metadata": {},
   "outputs": [],
   "source": [
    "from cellphonedb.src.core.methods import cpdb_statistical_analysis_method\n"
   ]
  },
  {
   "cell_type": "code",
   "execution_count": 21,
   "id": "86771788-5779-4c2f-a349-fca7063a177f",
   "metadata": {},
   "outputs": [
    {
     "name": "stdout",
     "output_type": "stream",
     "text": [
      "Reading user files...\n",
      "The following user files were loaded successfully:\n",
      "/home/sklab/spleen PPI/input_cpdb.csv\n",
      "/home/sklab/spleen PPI/metadata.csv\n",
      "[ ][CORE][14/06/24-22:26:42][INFO] [Cluster Statistical Analysis] Threshold:0.1 Iterations:1000 Debug-seed:42 Threads:5 Precision:3\n",
      "[ ][CORE][14/06/24-22:26:42][WARNING] Debug random seed enabled. Set to 42\n",
      "[ ][CORE][14/06/24-22:26:43][INFO] Running Real Analysis\n",
      "[ ][CORE][14/06/24-22:26:43][INFO] Running Statistical Analysis\n"
     ]
    },
    {
     "name": "stderr",
     "output_type": "stream",
     "text": [
      "100%|█████████████████████████████████████| 1000/1000 [00:00<00:00, 3097.93it/s]"
     ]
    },
    {
     "name": "stdout",
     "output_type": "stream",
     "text": [
      "[ ][CORE][14/06/24-22:26:43][INFO] Building Pvalues result\n",
      "[ ][CORE][14/06/24-22:26:43][INFO] Building results\n",
      "[ ][CORE][14/06/24-22:26:43][INFO] Scoring interactions: Filtering genes per cell type..\n"
     ]
    },
    {
     "name": "stderr",
     "output_type": "stream",
     "text": [
      "\n",
      "100%|███████████████████████████████████████████| 3/3 [00:00<00:00, 1138.21it/s]"
     ]
    },
    {
     "name": "stdout",
     "output_type": "stream",
     "text": [
      "[ ][CORE][14/06/24-22:26:43][INFO] Scoring interactions: Calculating mean expression of each gene per group/cell type..\n"
     ]
    },
    {
     "name": "stderr",
     "output_type": "stream",
     "text": [
      "\n",
      "100%|███████████████████████████████████████████| 3/3 [00:00<00:00, 2642.91it/s]\n"
     ]
    },
    {
     "name": "stdout",
     "output_type": "stream",
     "text": [
      "[ ][CORE][14/06/24-22:26:43][INFO] Scoring interactions: Calculating scores for all interactions and cell types..\n"
     ]
    },
    {
     "name": "stderr",
     "output_type": "stream",
     "text": [
      "100%|████████████████████████████████████████████| 9/9 [00:00<00:00, 622.04it/s]"
     ]
    },
    {
     "name": "stdout",
     "output_type": "stream",
     "text": [
      "Saved deconvoluted to /home/sklab/spleen PPI/statistical_analysis_deconvoluted_06_14_2024_222643.txt\n",
      "Saved deconvoluted_percents to /home/sklab/spleen PPI/statistical_analysis_deconvoluted_percents_06_14_2024_222643.txt\n",
      "Saved means to /home/sklab/spleen PPI/statistical_analysis_means_06_14_2024_222643.txt\n",
      "Saved pvalues to /home/sklab/spleen PPI/statistical_analysis_pvalues_06_14_2024_222643.txt\n",
      "Saved significant_means to /home/sklab/spleen PPI/statistical_analysis_significant_means_06_14_2024_222643.txt\n",
      "Saved interaction_scores to /home/sklab/spleen PPI/statistical_analysis_interaction_scores_06_14_2024_222643.txt\n"
     ]
    },
    {
     "name": "stderr",
     "output_type": "stream",
     "text": [
      "\n"
     ]
    }
   ],
   "source": [
    "cpdb_results = cpdb_statistical_analysis_method.call(\n",
    "    cpdb_file_path = cpdb_file_path,                 # mandatory: CellphoneDB database zip file.\n",
    "    meta_file_path = meta_file_path,                 # mandatory: tsv file defining barcodes to cell label.\n",
    "    counts_file_path = counts_file_path,             # mandatory: normalized count matrix - a path to the counts file, or an in-memory AnnData object\n",
    "    counts_data = 'hgnc_symbol',                     # defines the gene annotation in counts matrix.\n",
    "       # optional (default: None): defines cells per microenvironment.\n",
    "    score_interactions = True,                       # optional: whether to score interactions or not. \n",
    "    iterations = 1000,                               # denotes the number of shufflings performed in the analysis.\n",
    "    threshold = 0.1,                                 # defines the min % of cells expressing a gene for this to be employed in the analysis.\n",
    "    threads = 5,                                     # number of threads to use in the analysis.\n",
    "    debug_seed = 42,                                 # debug randome seed. To disable >=0.\n",
    "    result_precision = 3,                            # Sets the rounding for the mean values in significan_means.\n",
    "    pvalue = 0.05,                                   # P-value threshold to employ for significance.\n",
    "    subsampling = False,                             # To enable subsampling the data (geometri sketching).\n",
    "    subsampling_log = False,                         # (mandatory) enable subsampling log1p for non log-transformed data inputs.\n",
    "    subsampling_num_pc = 100,                        # Number of componets to subsample via geometric skectching (dafault: 100).\n",
    "    subsampling_num_cells = 1000,                    # Number of cells to subsample (integer) (default: 1/3 of the dataset).\n",
    "    separator = '|',                                 # Sets the string to employ to separate cells in the results dataframes \"cellA|CellB\".\n",
    "    debug = False,                                   # Saves all intermediate tables employed during the analysis in pkl format.\n",
    "    output_path = out_path,                          # Path to save results.\n",
    "    output_suffix = None                             # Replaces the timestamp in the output files by a user defined string in the  (default: None).\n",
    "    )"
   ]
  },
  {
   "cell_type": "code",
   "execution_count": 22,
   "id": "b7a40e81-b697-4ded-bb9a-c4068d855170",
   "metadata": {},
   "outputs": [
    {
     "data": {
      "text/plain": [
       "['deconvoluted',\n",
       " 'deconvoluted_percents',\n",
       " 'means',\n",
       " 'pvalues',\n",
       " 'significant_means',\n",
       " 'CellSign_active_interactions',\n",
       " 'CellSign_active_interactions_deconvoluted',\n",
       " 'interaction_scores']"
      ]
     },
     "execution_count": 22,
     "metadata": {},
     "output_type": "execute_result"
    }
   ],
   "source": [
    "list(cpdb_results.keys())\n"
   ]
  },
  {
   "cell_type": "code",
   "execution_count": 23,
   "id": "a2731e5a-755d-4472-b62e-5f2c5874a834",
   "metadata": {},
   "outputs": [
    {
     "data": {
      "text/html": [
       "<div>\n",
       "<style scoped>\n",
       "    .dataframe tbody tr th:only-of-type {\n",
       "        vertical-align: middle;\n",
       "    }\n",
       "\n",
       "    .dataframe tbody tr th {\n",
       "        vertical-align: top;\n",
       "    }\n",
       "\n",
       "    .dataframe thead th {\n",
       "        text-align: right;\n",
       "    }\n",
       "</style>\n",
       "<table border=\"1\" class=\"dataframe\">\n",
       "  <thead>\n",
       "    <tr style=\"text-align: right;\">\n",
       "      <th></th>\n",
       "      <th>id_cp_interaction</th>\n",
       "      <th>interacting_pair</th>\n",
       "      <th>partner_a</th>\n",
       "      <th>partner_b</th>\n",
       "      <th>gene_a</th>\n",
       "      <th>gene_b</th>\n",
       "      <th>secreted</th>\n",
       "      <th>receptor_a</th>\n",
       "      <th>receptor_b</th>\n",
       "      <th>annotation_strategy</th>\n",
       "      <th>...</th>\n",
       "      <th>classification</th>\n",
       "      <th>LSK|LSK</th>\n",
       "      <th>LSK|ST</th>\n",
       "      <th>LSK|TB</th>\n",
       "      <th>ST|LSK</th>\n",
       "      <th>ST|ST</th>\n",
       "      <th>ST|TB</th>\n",
       "      <th>TB|LSK</th>\n",
       "      <th>TB|ST</th>\n",
       "      <th>TB|TB</th>\n",
       "    </tr>\n",
       "  </thead>\n",
       "  <tbody>\n",
       "    <tr>\n",
       "      <th>4</th>\n",
       "      <td>CPI-SC0B86B7CED</td>\n",
       "      <td>COL12A1_integrin_a2b1_complex</td>\n",
       "      <td>simple:Q99715</td>\n",
       "      <td>complex:integrin_a2b1_complex</td>\n",
       "      <td>COL12A1</td>\n",
       "      <td>NaN</td>\n",
       "      <td>True</td>\n",
       "      <td>False</td>\n",
       "      <td>False</td>\n",
       "      <td>curated</td>\n",
       "      <td>...</td>\n",
       "      <td>Adhesion by Collagen/Integrin</td>\n",
       "      <td>0.658</td>\n",
       "      <td>0.334</td>\n",
       "      <td>0.828</td>\n",
       "      <td>0.676</td>\n",
       "      <td>0.329</td>\n",
       "      <td>0.481</td>\n",
       "      <td>0.165</td>\n",
       "      <td>0.0</td>\n",
       "      <td>0.0</td>\n",
       "    </tr>\n",
       "    <tr>\n",
       "      <th>6</th>\n",
       "      <td>CPI-SC0CCCF9A7F</td>\n",
       "      <td>COL14A1_integrin_a2b1_complex</td>\n",
       "      <td>simple:Q05707</td>\n",
       "      <td>complex:integrin_a2b1_complex</td>\n",
       "      <td>COL14A1</td>\n",
       "      <td>NaN</td>\n",
       "      <td>True</td>\n",
       "      <td>False</td>\n",
       "      <td>False</td>\n",
       "      <td>curated</td>\n",
       "      <td>...</td>\n",
       "      <td>Adhesion by Collagen/Integrin</td>\n",
       "      <td>0.658</td>\n",
       "      <td>0.334</td>\n",
       "      <td>0.504</td>\n",
       "      <td>0.828</td>\n",
       "      <td>0.329</td>\n",
       "      <td>0.646</td>\n",
       "      <td>0.165</td>\n",
       "      <td>0.0</td>\n",
       "      <td>0.0</td>\n",
       "    </tr>\n",
       "  </tbody>\n",
       "</table>\n",
       "<p>2 rows × 22 columns</p>\n",
       "</div>"
      ],
      "text/plain": [
       "  id_cp_interaction               interacting_pair      partner_a  \\\n",
       "4   CPI-SC0B86B7CED  COL12A1_integrin_a2b1_complex  simple:Q99715   \n",
       "6   CPI-SC0CCCF9A7F  COL14A1_integrin_a2b1_complex  simple:Q05707   \n",
       "\n",
       "                       partner_b   gene_a gene_b  secreted  receptor_a  \\\n",
       "4  complex:integrin_a2b1_complex  COL12A1    NaN      True       False   \n",
       "6  complex:integrin_a2b1_complex  COL14A1    NaN      True       False   \n",
       "\n",
       "   receptor_b annotation_strategy  ...                 classification LSK|LSK  \\\n",
       "4       False             curated  ...  Adhesion by Collagen/Integrin   0.658   \n",
       "6       False             curated  ...  Adhesion by Collagen/Integrin   0.658   \n",
       "\n",
       "  LSK|ST  LSK|TB  ST|LSK  ST|ST  ST|TB  TB|LSK  TB|ST  TB|TB  \n",
       "4  0.334   0.828   0.676  0.329  0.481   0.165    0.0    0.0  \n",
       "6  0.334   0.504   0.828  0.329  0.646   0.165    0.0    0.0  \n",
       "\n",
       "[2 rows x 22 columns]"
      ]
     },
     "execution_count": 23,
     "metadata": {},
     "output_type": "execute_result"
    }
   ],
   "source": [
    "cpdb_results['pvalues'].head(2)\n",
    "\n"
   ]
  },
  {
   "cell_type": "code",
   "execution_count": 24,
   "id": "72250d87-2077-403b-8d22-fb14b86a4356",
   "metadata": {},
   "outputs": [
    {
     "data": {
      "text/html": [
       "<div>\n",
       "<style scoped>\n",
       "    .dataframe tbody tr th:only-of-type {\n",
       "        vertical-align: middle;\n",
       "    }\n",
       "\n",
       "    .dataframe tbody tr th {\n",
       "        vertical-align: top;\n",
       "    }\n",
       "\n",
       "    .dataframe thead th {\n",
       "        text-align: right;\n",
       "    }\n",
       "</style>\n",
       "<table border=\"1\" class=\"dataframe\">\n",
       "  <thead>\n",
       "    <tr style=\"text-align: right;\">\n",
       "      <th></th>\n",
       "      <th>id_cp_interaction</th>\n",
       "      <th>interacting_pair</th>\n",
       "      <th>partner_a</th>\n",
       "      <th>partner_b</th>\n",
       "      <th>gene_a</th>\n",
       "      <th>gene_b</th>\n",
       "      <th>secreted</th>\n",
       "      <th>receptor_a</th>\n",
       "      <th>receptor_b</th>\n",
       "      <th>annotation_strategy</th>\n",
       "      <th>...</th>\n",
       "      <th>classification</th>\n",
       "      <th>LSK|LSK</th>\n",
       "      <th>LSK|ST</th>\n",
       "      <th>LSK|TB</th>\n",
       "      <th>ST|LSK</th>\n",
       "      <th>ST|ST</th>\n",
       "      <th>ST|TB</th>\n",
       "      <th>TB|LSK</th>\n",
       "      <th>TB|ST</th>\n",
       "      <th>TB|TB</th>\n",
       "    </tr>\n",
       "  </thead>\n",
       "  <tbody>\n",
       "    <tr>\n",
       "      <th>4</th>\n",
       "      <td>CPI-SC0B86B7CED</td>\n",
       "      <td>COL12A1_integrin_a2b1_complex</td>\n",
       "      <td>simple:Q99715</td>\n",
       "      <td>complex:integrin_a2b1_complex</td>\n",
       "      <td>COL12A1</td>\n",
       "      <td>NaN</td>\n",
       "      <td>True</td>\n",
       "      <td>False</td>\n",
       "      <td>False</td>\n",
       "      <td>curated</td>\n",
       "      <td>...</td>\n",
       "      <td>Adhesion by Collagen/Integrin</td>\n",
       "      <td>2.667</td>\n",
       "      <td>124.728996</td>\n",
       "      <td>12.117</td>\n",
       "      <td>13.150</td>\n",
       "      <td>135.212997</td>\n",
       "      <td>22.600</td>\n",
       "      <td>134.332993</td>\n",
       "      <td>256.395996</td>\n",
       "      <td>143.783005</td>\n",
       "    </tr>\n",
       "    <tr>\n",
       "      <th>6</th>\n",
       "      <td>CPI-SC0CCCF9A7F</td>\n",
       "      <td>COL14A1_integrin_a2b1_complex</td>\n",
       "      <td>simple:Q05707</td>\n",
       "      <td>complex:integrin_a2b1_complex</td>\n",
       "      <td>COL14A1</td>\n",
       "      <td>NaN</td>\n",
       "      <td>True</td>\n",
       "      <td>False</td>\n",
       "      <td>False</td>\n",
       "      <td>curated</td>\n",
       "      <td>...</td>\n",
       "      <td>Adhesion by Collagen/Integrin</td>\n",
       "      <td>4.483</td>\n",
       "      <td>126.545998</td>\n",
       "      <td>13.933</td>\n",
       "      <td>1.858</td>\n",
       "      <td>123.920998</td>\n",
       "      <td>11.308</td>\n",
       "      <td>143.800003</td>\n",
       "      <td>265.862000</td>\n",
       "      <td>153.250000</td>\n",
       "    </tr>\n",
       "  </tbody>\n",
       "</table>\n",
       "<p>2 rows × 22 columns</p>\n",
       "</div>"
      ],
      "text/plain": [
       "  id_cp_interaction               interacting_pair      partner_a  \\\n",
       "4   CPI-SC0B86B7CED  COL12A1_integrin_a2b1_complex  simple:Q99715   \n",
       "6   CPI-SC0CCCF9A7F  COL14A1_integrin_a2b1_complex  simple:Q05707   \n",
       "\n",
       "                       partner_b   gene_a gene_b  secreted  receptor_a  \\\n",
       "4  complex:integrin_a2b1_complex  COL12A1    NaN      True       False   \n",
       "6  complex:integrin_a2b1_complex  COL14A1    NaN      True       False   \n",
       "\n",
       "   receptor_b annotation_strategy  ...                 classification LSK|LSK  \\\n",
       "4       False             curated  ...  Adhesion by Collagen/Integrin   2.667   \n",
       "6       False             curated  ...  Adhesion by Collagen/Integrin   4.483   \n",
       "\n",
       "       LSK|ST  LSK|TB  ST|LSK       ST|ST   ST|TB      TB|LSK       TB|ST  \\\n",
       "4  124.728996  12.117  13.150  135.212997  22.600  134.332993  256.395996   \n",
       "6  126.545998  13.933   1.858  123.920998  11.308  143.800003  265.862000   \n",
       "\n",
       "        TB|TB  \n",
       "4  143.783005  \n",
       "6  153.250000  \n",
       "\n",
       "[2 rows x 22 columns]"
      ]
     },
     "execution_count": 24,
     "metadata": {},
     "output_type": "execute_result"
    }
   ],
   "source": [
    "cpdb_results['means'].head(2)\n"
   ]
  },
  {
   "cell_type": "code",
   "execution_count": 25,
   "id": "dff09cee-8000-4654-9652-a868ae1cdff7",
   "metadata": {},
   "outputs": [
    {
     "data": {
      "text/html": [
       "<div>\n",
       "<style scoped>\n",
       "    .dataframe tbody tr th:only-of-type {\n",
       "        vertical-align: middle;\n",
       "    }\n",
       "\n",
       "    .dataframe tbody tr th {\n",
       "        vertical-align: top;\n",
       "    }\n",
       "\n",
       "    .dataframe thead th {\n",
       "        text-align: right;\n",
       "    }\n",
       "</style>\n",
       "<table border=\"1\" class=\"dataframe\">\n",
       "  <thead>\n",
       "    <tr style=\"text-align: right;\">\n",
       "      <th></th>\n",
       "      <th>id_cp_interaction</th>\n",
       "      <th>interacting_pair</th>\n",
       "      <th>partner_a</th>\n",
       "      <th>partner_b</th>\n",
       "      <th>gene_a</th>\n",
       "      <th>gene_b</th>\n",
       "      <th>secreted</th>\n",
       "      <th>receptor_a</th>\n",
       "      <th>receptor_b</th>\n",
       "      <th>annotation_strategy</th>\n",
       "      <th>...</th>\n",
       "      <th>rank</th>\n",
       "      <th>LSK|LSK</th>\n",
       "      <th>LSK|ST</th>\n",
       "      <th>LSK|TB</th>\n",
       "      <th>ST|LSK</th>\n",
       "      <th>ST|ST</th>\n",
       "      <th>ST|TB</th>\n",
       "      <th>TB|LSK</th>\n",
       "      <th>TB|ST</th>\n",
       "      <th>TB|TB</th>\n",
       "    </tr>\n",
       "  </thead>\n",
       "  <tbody>\n",
       "    <tr>\n",
       "      <th>4</th>\n",
       "      <td>CPI-SC0B86B7CED</td>\n",
       "      <td>COL12A1_integrin_a2b1_complex</td>\n",
       "      <td>simple:Q99715</td>\n",
       "      <td>complex:integrin_a2b1_complex</td>\n",
       "      <td>COL12A1</td>\n",
       "      <td>NaN</td>\n",
       "      <td>True</td>\n",
       "      <td>False</td>\n",
       "      <td>False</td>\n",
       "      <td>curated</td>\n",
       "      <td>...</td>\n",
       "      <td>0.222</td>\n",
       "      <td>NaN</td>\n",
       "      <td>NaN</td>\n",
       "      <td>NaN</td>\n",
       "      <td>NaN</td>\n",
       "      <td>NaN</td>\n",
       "      <td>NaN</td>\n",
       "      <td>NaN</td>\n",
       "      <td>256.395996</td>\n",
       "      <td>143.783005</td>\n",
       "    </tr>\n",
       "    <tr>\n",
       "      <th>86</th>\n",
       "      <td>CPI-SC0C739EDCE</td>\n",
       "      <td>COL18A1_integrin_a1b1_complex</td>\n",
       "      <td>simple:P39060</td>\n",
       "      <td>complex:integrin_a1b1_complex</td>\n",
       "      <td>COL18A1</td>\n",
       "      <td>NaN</td>\n",
       "      <td>True</td>\n",
       "      <td>False</td>\n",
       "      <td>False</td>\n",
       "      <td>curated</td>\n",
       "      <td>...</td>\n",
       "      <td>0.222</td>\n",
       "      <td>NaN</td>\n",
       "      <td>NaN</td>\n",
       "      <td>NaN</td>\n",
       "      <td>NaN</td>\n",
       "      <td>150.699997</td>\n",
       "      <td>NaN</td>\n",
       "      <td>NaN</td>\n",
       "      <td>250.199997</td>\n",
       "      <td>NaN</td>\n",
       "    </tr>\n",
       "  </tbody>\n",
       "</table>\n",
       "<p>2 rows × 23 columns</p>\n",
       "</div>"
      ],
      "text/plain": [
       "   id_cp_interaction               interacting_pair      partner_a  \\\n",
       "4    CPI-SC0B86B7CED  COL12A1_integrin_a2b1_complex  simple:Q99715   \n",
       "86   CPI-SC0C739EDCE  COL18A1_integrin_a1b1_complex  simple:P39060   \n",
       "\n",
       "                        partner_b   gene_a gene_b  secreted  receptor_a  \\\n",
       "4   complex:integrin_a2b1_complex  COL12A1    NaN      True       False   \n",
       "86  complex:integrin_a1b1_complex  COL18A1    NaN      True       False   \n",
       "\n",
       "    receptor_b annotation_strategy  ...   rank LSK|LSK LSK|ST  LSK|TB  ST|LSK  \\\n",
       "4        False             curated  ...  0.222     NaN    NaN     NaN     NaN   \n",
       "86       False             curated  ...  0.222     NaN    NaN     NaN     NaN   \n",
       "\n",
       "         ST|ST  ST|TB  TB|LSK       TB|ST       TB|TB  \n",
       "4          NaN    NaN     NaN  256.395996  143.783005  \n",
       "86  150.699997    NaN     NaN  250.199997         NaN  \n",
       "\n",
       "[2 rows x 23 columns]"
      ]
     },
     "execution_count": 25,
     "metadata": {},
     "output_type": "execute_result"
    }
   ],
   "source": [
    "cpdb_results['significant_means'].head(2)\n"
   ]
  },
  {
   "cell_type": "code",
   "execution_count": null,
   "id": "71cf745a-dbf8-46c6-b41d-1392875e7cc0",
   "metadata": {},
   "outputs": [],
   "source": []
  },
  {
   "cell_type": "code",
   "execution_count": 26,
   "id": "c9ac2fb4-dfcf-4187-a560-fcbeb0c23ddb",
   "metadata": {},
   "outputs": [],
   "source": [
    "import os\n",
    "import anndata as ad\n",
    "import pandas as pd\n",
    "import ktplotspy as kpy\n",
    "import matplotlib.pyplot as plt\n",
    "%matplotlib inline\n"
   ]
  },
  {
   "cell_type": "code",
   "execution_count": 27,
   "id": "dbb883b2-e690-48df-a21f-18017741e1ce",
   "metadata": {},
   "outputs": [
    {
     "data": {
      "text/plain": [
       "<seaborn.matrix.ClusterGrid at 0x7f68cde63ca0>"
      ]
     },
     "execution_count": 27,
     "metadata": {},
     "output_type": "execute_result"
    },
    {
     "data": {
      "image/png": "[encoded data removed]",
      "text/plain": [
       "<Figure size 500x500 with 4 Axes>"
      ]
     },
     "metadata": {},
     "output_type": "display_data"
    }
   ],
   "source": [
    "kpy.plot_cpdb_heatmap(pvals = cpdb_results['pvalues'],\n",
    "                      degs_analysis = False,\n",
    "                      figsize = (5, 5),\n",
    "                      title = \"Sum of significant interactions\")\n"
   ]
  },
  {
   "cell_type": "code",
   "execution_count": 151,
   "id": "9dd0521a-a29a-4e45-8e7a-d11742bd0285",
   "metadata": {},
   "outputs": [
    {
     "ename": "KeyError",
     "evalue": "'cell_labels'",
     "output_type": "error",
     "traceback": [
      "\u001b[0;31m---------------------------------------------------------------------------\u001b[0m",
      "\u001b[0;31mKeyError\u001b[0m                                  Traceback (most recent call last)",
      "File \u001b[0;32m~/miniconda3/envs/cpdb/lib/python3.8/site-packages/pandas/core/indexes/base.py:3653\u001b[0m, in \u001b[0;36mIndex.get_loc\u001b[0;34m(self, key)\u001b[0m\n\u001b[1;32m   3652\u001b[0m \u001b[38;5;28;01mtry\u001b[39;00m:\n\u001b[0;32m-> 3653\u001b[0m     \u001b[38;5;28;01mreturn\u001b[39;00m \u001b[38;5;28;43mself\u001b[39;49m\u001b[38;5;241;43m.\u001b[39;49m\u001b[43m_engine\u001b[49m\u001b[38;5;241;43m.\u001b[39;49m\u001b[43mget_loc\u001b[49m\u001b[43m(\u001b[49m\u001b[43mcasted_key\u001b[49m\u001b[43m)\u001b[49m\n\u001b[1;32m   3654\u001b[0m \u001b[38;5;28;01mexcept\u001b[39;00m \u001b[38;5;167;01mKeyError\u001b[39;00m \u001b[38;5;28;01mas\u001b[39;00m err:\n",
      "File \u001b[0;32m~/miniconda3/envs/cpdb/lib/python3.8/site-packages/pandas/_libs/index.pyx:147\u001b[0m, in \u001b[0;36mpandas._libs.index.IndexEngine.get_loc\u001b[0;34m()\u001b[0m\n",
      "File \u001b[0;32m~/miniconda3/envs/cpdb/lib/python3.8/site-packages/pandas/_libs/index.pyx:176\u001b[0m, in \u001b[0;36mpandas._libs.index.IndexEngine.get_loc\u001b[0;34m()\u001b[0m\n",
      "File \u001b[0;32mpandas/_libs/hashtable_class_helper.pxi:7080\u001b[0m, in \u001b[0;36mpandas._libs.hashtable.PyObjectHashTable.get_item\u001b[0;34m()\u001b[0m\n",
      "File \u001b[0;32mpandas/_libs/hashtable_class_helper.pxi:7088\u001b[0m, in \u001b[0;36mpandas._libs.hashtable.PyObjectHashTable.get_item\u001b[0;34m()\u001b[0m\n",
      "\u001b[0;31mKeyError\u001b[0m: 'cell_labels'",
      "\nThe above exception was the direct cause of the following exception:\n",
      "\u001b[0;31mKeyError\u001b[0m                                  Traceback (most recent call last)",
      "Cell \u001b[0;32mIn[151], line 1\u001b[0m\n\u001b[0;32m----> 1\u001b[0m \u001b[43mkpy\u001b[49m\u001b[38;5;241;43m.\u001b[39;49m\u001b[43mplot_cpdb\u001b[49m\u001b[43m(\u001b[49m\n\u001b[1;32m      2\u001b[0m \u001b[43m    \u001b[49m\u001b[43madata\u001b[49m\u001b[43m \u001b[49m\u001b[38;5;241;43m=\u001b[39;49m\u001b[43m \u001b[49m\u001b[43manndata_obj\u001b[49m\u001b[43m,\u001b[49m\n\u001b[1;32m      3\u001b[0m \u001b[43m    \u001b[49m\u001b[43mcell_type1\u001b[49m\u001b[43m \u001b[49m\u001b[38;5;241;43m=\u001b[39;49m\u001b[43m \u001b[49m\u001b[38;5;124;43m\"\u001b[39;49m\u001b[38;5;124;43mTB|ST\u001b[39;49m\u001b[38;5;124;43m\"\u001b[39;49m\u001b[43m,\u001b[49m\n\u001b[1;32m      4\u001b[0m \u001b[43m    \u001b[49m\u001b[43mcell_type2\u001b[49m\u001b[43m \u001b[49m\u001b[38;5;241;43m=\u001b[39;49m\u001b[43m \u001b[49m\u001b[38;5;124;43m\"\u001b[39;49m\u001b[38;5;124;43mLSK\u001b[39;49m\u001b[38;5;124;43m\"\u001b[39;49m\u001b[43m,\u001b[49m\n\u001b[1;32m      5\u001b[0m \u001b[43m    \u001b[49m\u001b[43mmeans\u001b[49m\u001b[43m \u001b[49m\u001b[38;5;241;43m=\u001b[39;49m\u001b[43m \u001b[49m\u001b[43mcpdb_results\u001b[49m\u001b[43m[\u001b[49m\u001b[38;5;124;43m'\u001b[39;49m\u001b[38;5;124;43mmeans\u001b[39;49m\u001b[38;5;124;43m'\u001b[39;49m\u001b[43m]\u001b[49m\u001b[43m,\u001b[49m\n\u001b[1;32m      6\u001b[0m \u001b[43m    \u001b[49m\u001b[43mpvals\u001b[49m\u001b[43m \u001b[49m\u001b[38;5;241;43m=\u001b[39;49m\u001b[43m \u001b[49m\u001b[43mcpdb_results\u001b[49m\u001b[43m[\u001b[49m\u001b[38;5;124;43m'\u001b[39;49m\u001b[38;5;124;43mpvalues\u001b[39;49m\u001b[38;5;124;43m'\u001b[39;49m\u001b[43m]\u001b[49m\u001b[43m,\u001b[49m\n\u001b[1;32m      7\u001b[0m \u001b[43m    \u001b[49m\u001b[43mcelltype_key\u001b[49m\u001b[43m \u001b[49m\u001b[38;5;241;43m=\u001b[39;49m\u001b[43m \u001b[49m\u001b[38;5;124;43m\"\u001b[39;49m\u001b[38;5;124;43mcell_labels\u001b[39;49m\u001b[38;5;124;43m\"\u001b[39;49m\u001b[43m,\u001b[49m\n\u001b[1;32m      8\u001b[0m \u001b[43m    \u001b[49m\u001b[43mgenes\u001b[49m\u001b[43m \u001b[49m\u001b[38;5;241;43m=\u001b[39;49m\u001b[43m \u001b[49m\u001b[43m[\u001b[49m\u001b[38;5;124;43m\"\u001b[39;49m\u001b[38;5;124;43mCOL12A1\u001b[39;49m\u001b[38;5;124;43m\"\u001b[39;49m\u001b[43m]\u001b[49m\u001b[43m,\u001b[49m\n\u001b[1;32m      9\u001b[0m \u001b[43m    \u001b[49m\u001b[43mfigsize\u001b[49m\u001b[43m \u001b[49m\u001b[38;5;241;43m=\u001b[39;49m\u001b[43m \u001b[49m\u001b[43m(\u001b[49m\u001b[38;5;241;43m10\u001b[39;49m\u001b[43m,\u001b[49m\u001b[43m \u001b[49m\u001b[38;5;241;43m3\u001b[39;49m\u001b[43m)\u001b[49m\u001b[43m,\u001b[49m\n\u001b[1;32m     10\u001b[0m \u001b[43m    \u001b[49m\u001b[43mtitle\u001b[49m\u001b[43m \u001b[49m\u001b[38;5;241;43m=\u001b[39;49m\u001b[43m \u001b[49m\u001b[38;5;124;43m\"\u001b[39;49m\u001b[38;5;124;43mInteractions between\u001b[39;49m\u001b[38;5;130;43;01m\\n\u001b[39;49;00m\u001b[38;5;124;43mPV and trophoblast\u001b[39;49m\u001b[38;5;124;43m\"\u001b[39;49m\u001b[43m,\u001b[49m\n\u001b[1;32m     11\u001b[0m \u001b[43m    \u001b[49m\u001b[43mmax_size\u001b[49m\u001b[43m \u001b[49m\u001b[38;5;241;43m=\u001b[39;49m\u001b[43m \u001b[49m\u001b[38;5;241;43m3\u001b[39;49m\u001b[43m,\u001b[49m\n\u001b[1;32m     12\u001b[0m \u001b[43m    \u001b[49m\u001b[43mhighlight_size\u001b[49m\u001b[43m \u001b[49m\u001b[38;5;241;43m=\u001b[39;49m\u001b[43m \u001b[49m\u001b[38;5;241;43m0.75\u001b[39;49m\u001b[43m,\u001b[49m\n\u001b[1;32m     13\u001b[0m \u001b[43m    \u001b[49m\u001b[43mdegs_analysis\u001b[49m\u001b[43m \u001b[49m\u001b[38;5;241;43m=\u001b[39;49m\u001b[43m \u001b[49m\u001b[38;5;28;43;01mFalse\u001b[39;49;00m\u001b[43m,\u001b[49m\n\u001b[1;32m     14\u001b[0m \u001b[43m    \u001b[49m\u001b[43mstandard_scale\u001b[49m\u001b[43m \u001b[49m\u001b[38;5;241;43m=\u001b[39;49m\u001b[43m \u001b[49m\u001b[38;5;28;43;01mTrue\u001b[39;49;00m\u001b[43m,\u001b[49m\n\u001b[1;32m     15\u001b[0m \u001b[43m    \u001b[49m\u001b[43minteraction_scores\u001b[49m\u001b[43m \u001b[49m\u001b[38;5;241;43m=\u001b[39;49m\u001b[43m \u001b[49m\u001b[43mcpdb_results\u001b[49m\u001b[43m[\u001b[49m\u001b[38;5;124;43m'\u001b[39;49m\u001b[38;5;124;43minteraction_scores\u001b[39;49m\u001b[38;5;124;43m'\u001b[39;49m\u001b[43m]\u001b[49m\u001b[43m,\u001b[49m\n\u001b[1;32m     16\u001b[0m \u001b[43m    \u001b[49m\u001b[43mscale_alpha_by_interaction_scores\u001b[49m\u001b[43m \u001b[49m\u001b[38;5;241;43m=\u001b[39;49m\u001b[43m \u001b[49m\u001b[38;5;28;43;01mTrue\u001b[39;49;00m\n\u001b[1;32m     17\u001b[0m \u001b[43m)\u001b[49m\n",
      "File \u001b[0;32m~/miniconda3/envs/cpdb/lib/python3.8/site-packages/ktplotspy/plot/plot_cpdb.py:240\u001b[0m, in \u001b[0;36mplot_cpdb\u001b[0;34m(adata, cell_type1, cell_type2, means, pvals, celltype_key, interaction_scores, cellsign, degs_analysis, splitby_key, alpha, keep_significant_only, genes, gene_family, custom_gene_family, standard_scale, cluster_rows, cmap_name, max_size, max_highlight_size, default_style, highlight_col, highlight_size, special_character_regex_pattern, exclude_interactions, title, return_table, figsize, min_interaction_score, scale_alpha_by_interaction_scores, scale_alpha_by_cellsign, filter_by_cellsign, keep_id_cp_interaction)\u001b[0m\n\u001b[1;32m    238\u001b[0m     \u001b[38;5;28;01melse\u001b[39;00m:\n\u001b[1;32m    239\u001b[0m         query \u001b[38;5;241m=\u001b[39m [i \u001b[38;5;28;01mfor\u001b[39;00m i \u001b[38;5;129;01min\u001b[39;00m means_mat\u001b[38;5;241m.\u001b[39minteracting_pair \u001b[38;5;28;01mif\u001b[39;00m re\u001b[38;5;241m.\u001b[39msearch(\u001b[38;5;124m\"\u001b[39m\u001b[38;5;124m|\u001b[39m\u001b[38;5;124m\"\u001b[39m\u001b[38;5;241m.\u001b[39mjoin(genes), i)]\n\u001b[0;32m--> 240\u001b[0m metadata \u001b[38;5;241m=\u001b[39m \u001b[43mensure_categorical\u001b[49m\u001b[43m(\u001b[49m\u001b[43mmeta\u001b[49m\u001b[38;5;241;43m=\u001b[39;49m\u001b[43mmetadata\u001b[49m\u001b[43m,\u001b[49m\u001b[43m \u001b[49m\u001b[43mkey\u001b[49m\u001b[38;5;241;43m=\u001b[39;49m\u001b[43mcelltype_key\u001b[49m\u001b[43m)\u001b[49m\n\u001b[1;32m    241\u001b[0m \u001b[38;5;66;03m# prepare regex query for celltypes\u001b[39;00m\n\u001b[1;32m    242\u001b[0m \u001b[38;5;28;01mif\u001b[39;00m splitby_key \u001b[38;5;129;01mis\u001b[39;00m \u001b[38;5;129;01mnot\u001b[39;00m \u001b[38;5;28;01mNone\u001b[39;00m:\n",
      "File \u001b[0;32m~/miniconda3/envs/cpdb/lib/python3.8/site-packages/ktplotspy/utils/support.py:111\u001b[0m, in \u001b[0;36mensure_categorical\u001b[0;34m(meta, key)\u001b[0m\n\u001b[1;32m     96\u001b[0m \u001b[38;5;28;01mdef\u001b[39;00m \u001b[38;5;21mensure_categorical\u001b[39m(meta: pd\u001b[38;5;241m.\u001b[39mDataFrame, key: \u001b[38;5;28mstr\u001b[39m) \u001b[38;5;241m-\u001b[39m\u001b[38;5;241m>\u001b[39m pd\u001b[38;5;241m.\u001b[39mDataFrame:\n\u001b[1;32m     97\u001b[0m \u001b[38;5;250m    \u001b[39m\u001b[38;5;124;03m\"\"\"Enforce categorical columns.\u001b[39;00m\n\u001b[1;32m     98\u001b[0m \n\u001b[1;32m     99\u001b[0m \u001b[38;5;124;03m    Parameters\u001b[39;00m\n\u001b[0;32m   (...)\u001b[0m\n\u001b[1;32m    109\u001b[0m \u001b[38;5;124;03m        Table with formatted column.\u001b[39;00m\n\u001b[1;32m    110\u001b[0m \u001b[38;5;124;03m    \"\"\"\u001b[39;00m\n\u001b[0;32m--> 111\u001b[0m     \u001b[38;5;28;01mif\u001b[39;00m \u001b[38;5;129;01mnot\u001b[39;00m is_categorical(\u001b[43mmeta\u001b[49m\u001b[43m[\u001b[49m\u001b[43mkey\u001b[49m\u001b[43m]\u001b[49m):\n\u001b[1;32m    112\u001b[0m         meta[key] \u001b[38;5;241m=\u001b[39m meta[key]\u001b[38;5;241m.\u001b[39mastype(\u001b[38;5;124m\"\u001b[39m\u001b[38;5;124mcategory\u001b[39m\u001b[38;5;124m\"\u001b[39m)\n\u001b[1;32m    113\u001b[0m     \u001b[38;5;28;01mreturn\u001b[39;00m meta\n",
      "File \u001b[0;32m~/miniconda3/envs/cpdb/lib/python3.8/site-packages/pandas/core/frame.py:3761\u001b[0m, in \u001b[0;36mDataFrame.__getitem__\u001b[0;34m(self, key)\u001b[0m\n\u001b[1;32m   3759\u001b[0m \u001b[38;5;28;01mif\u001b[39;00m \u001b[38;5;28mself\u001b[39m\u001b[38;5;241m.\u001b[39mcolumns\u001b[38;5;241m.\u001b[39mnlevels \u001b[38;5;241m>\u001b[39m \u001b[38;5;241m1\u001b[39m:\n\u001b[1;32m   3760\u001b[0m     \u001b[38;5;28;01mreturn\u001b[39;00m \u001b[38;5;28mself\u001b[39m\u001b[38;5;241m.\u001b[39m_getitem_multilevel(key)\n\u001b[0;32m-> 3761\u001b[0m indexer \u001b[38;5;241m=\u001b[39m \u001b[38;5;28;43mself\u001b[39;49m\u001b[38;5;241;43m.\u001b[39;49m\u001b[43mcolumns\u001b[49m\u001b[38;5;241;43m.\u001b[39;49m\u001b[43mget_loc\u001b[49m\u001b[43m(\u001b[49m\u001b[43mkey\u001b[49m\u001b[43m)\u001b[49m\n\u001b[1;32m   3762\u001b[0m \u001b[38;5;28;01mif\u001b[39;00m is_integer(indexer):\n\u001b[1;32m   3763\u001b[0m     indexer \u001b[38;5;241m=\u001b[39m [indexer]\n",
      "File \u001b[0;32m~/miniconda3/envs/cpdb/lib/python3.8/site-packages/pandas/core/indexes/base.py:3655\u001b[0m, in \u001b[0;36mIndex.get_loc\u001b[0;34m(self, key)\u001b[0m\n\u001b[1;32m   3653\u001b[0m     \u001b[38;5;28;01mreturn\u001b[39;00m \u001b[38;5;28mself\u001b[39m\u001b[38;5;241m.\u001b[39m_engine\u001b[38;5;241m.\u001b[39mget_loc(casted_key)\n\u001b[1;32m   3654\u001b[0m \u001b[38;5;28;01mexcept\u001b[39;00m \u001b[38;5;167;01mKeyError\u001b[39;00m \u001b[38;5;28;01mas\u001b[39;00m err:\n\u001b[0;32m-> 3655\u001b[0m     \u001b[38;5;28;01mraise\u001b[39;00m \u001b[38;5;167;01mKeyError\u001b[39;00m(key) \u001b[38;5;28;01mfrom\u001b[39;00m \u001b[38;5;21;01merr\u001b[39;00m\n\u001b[1;32m   3656\u001b[0m \u001b[38;5;28;01mexcept\u001b[39;00m \u001b[38;5;167;01mTypeError\u001b[39;00m:\n\u001b[1;32m   3657\u001b[0m     \u001b[38;5;66;03m# If we have a listlike key, _check_indexing_error will raise\u001b[39;00m\n\u001b[1;32m   3658\u001b[0m     \u001b[38;5;66;03m#  InvalidIndexError. Otherwise we fall through and re-raise\u001b[39;00m\n\u001b[1;32m   3659\u001b[0m     \u001b[38;5;66;03m#  the TypeError.\u001b[39;00m\n\u001b[1;32m   3660\u001b[0m     \u001b[38;5;28mself\u001b[39m\u001b[38;5;241m.\u001b[39m_check_indexing_error(key)\n",
      "\u001b[0;31mKeyError\u001b[0m: 'cell_labels'"
     ]
    }
   ],
   "source": [
    "kpy.plot_cpdb(\n",
    "    adata = anndata_obj,\n",
    "    cell_type1 = \"TB|ST\",\n",
    "    cell_type2 = \"LSK\",\n",
    "    means = cpdb_results['means'],\n",
    "    pvals = cpdb_results['pvalues'],\n",
    "    celltype_key = \"cell_labels\",\n",
    "    genes = [\"COL12A1\"],\n",
    "    figsize = (10, 3),\n",
    "    title = \"Interactions between\\nPV and trophoblast\",\n",
    "    max_size = 3,\n",
    "    highlight_size = 0.75,\n",
    "    degs_analysis = False,\n",
    "    standard_scale = True,\n",
    "    interaction_scores = cpdb_results['interaction_scores'],\n",
    "    scale_alpha_by_interaction_scores = True\n",
    ")\n"
   ]
  },
  {
   "cell_type": "code",
   "execution_count": 93,
   "id": "513dd8b4-6c02-4da8-8915-0c86c77bc9a6",
   "metadata": {},
   "outputs": [],
   "source": []
  },
  {
   "cell_type": "code",
   "execution_count": 145,
   "id": "ab4b5e41-648f-423a-aa7e-af9ae3cc3615",
   "metadata": {},
   "outputs": [],
   "source": [
    "anndata_obj = ad.AnnData(countfile)\n"
   ]
  },
  {
   "cell_type": "code",
   "execution_count": 147,
   "id": "f47db9eb-e56c-4d07-a115-568bedc9d58f",
   "metadata": {},
   "outputs": [
    {
     "name": "stdout",
     "output_type": "stream",
     "text": [
      "AnnData object with n_obs × n_vars = 39 × 1\n"
     ]
    },
    {
     "data": {
      "text/plain": [
       "(39, 1)"
      ]
     },
     "execution_count": 147,
     "metadata": {},
     "output_type": "execute_result"
    }
   ],
   "source": [
    "print(anndata_obj)\n",
    "anndata_obj.shape"
   ]
  },
  {
   "cell_type": "code",
   "execution_count": 130,
   "id": "fc45f5c8-0274-41c1-b33b-2d73909055bb",
   "metadata": {},
   "outputs": [
    {
     "name": "stdout",
     "output_type": "stream",
     "text": [
      "Index(['Cell', 'cell_labels'], dtype='object')\n"
     ]
    }
   ],
   "source": [
    "print(metadata.columns)\n"
   ]
  },
  {
   "cell_type": "code",
   "execution_count": 150,
   "id": "f91a4406-5e0f-48d8-82fd-3b50931d1344",
   "metadata": {},
   "outputs": [
    {
     "data": {
      "text/html": [
       "<div>\n",
       "<style scoped>\n",
       "    .dataframe tbody tr th:only-of-type {\n",
       "        vertical-align: middle;\n",
       "    }\n",
       "\n",
       "    .dataframe tbody tr th {\n",
       "        vertical-align: top;\n",
       "    }\n",
       "\n",
       "    .dataframe thead th {\n",
       "        text-align: right;\n",
       "    }\n",
       "</style>\n",
       "<table border=\"1\" class=\"dataframe\">\n",
       "  <thead>\n",
       "    <tr style=\"text-align: right;\">\n",
       "      <th></th>\n",
       "      <th>interacting_pair</th>\n",
       "      <th>partner_a</th>\n",
       "      <th>partner_b</th>\n",
       "      <th>gene_a</th>\n",
       "      <th>gene_b</th>\n",
       "      <th>directionality</th>\n",
       "      <th>classification</th>\n",
       "      <th>interacting_cells</th>\n",
       "      <th>significant_mean</th>\n",
       "    </tr>\n",
       "  </thead>\n",
       "  <tbody>\n",
       "    <tr>\n",
       "      <th>0</th>\n",
       "      <td>COL12A1_integrin_a1b1_complex</td>\n",
       "      <td>simple:Q99715</td>\n",
       "      <td>complex:integrin_a1b1_complex</td>\n",
       "      <td>COL12A1</td>\n",
       "      <td>NaN</td>\n",
       "      <td>Adhesion-Adhesion</td>\n",
       "      <td>Adhesion by Collagen/Integrin</td>\n",
       "      <td>TB|LSK</td>\n",
       "      <td>139.563004</td>\n",
       "    </tr>\n",
       "    <tr>\n",
       "      <th>1</th>\n",
       "      <td>COL12A1_integrin_a2b1_complex</td>\n",
       "      <td>simple:Q99715</td>\n",
       "      <td>complex:integrin_a2b1_complex</td>\n",
       "      <td>COL12A1</td>\n",
       "      <td>NaN</td>\n",
       "      <td>Adhesion-Adhesion</td>\n",
       "      <td>Adhesion by Collagen/Integrin</td>\n",
       "      <td>TB|LSK</td>\n",
       "      <td>134.332993</td>\n",
       "    </tr>\n",
       "  </tbody>\n",
       "</table>\n",
       "</div>"
      ],
      "text/plain": [
       "                interacting_pair      partner_a  \\\n",
       "0  COL12A1_integrin_a1b1_complex  simple:Q99715   \n",
       "1  COL12A1_integrin_a2b1_complex  simple:Q99715   \n",
       "\n",
       "                       partner_b   gene_a gene_b     directionality  \\\n",
       "0  complex:integrin_a1b1_complex  COL12A1    NaN  Adhesion-Adhesion   \n",
       "1  complex:integrin_a2b1_complex  COL12A1    NaN  Adhesion-Adhesion   \n",
       "\n",
       "                  classification interacting_cells  significant_mean  \n",
       "0  Adhesion by Collagen/Integrin            TB|LSK        139.563004  \n",
       "1  Adhesion by Collagen/Integrin            TB|LSK        134.332993  "
      ]
     },
     "execution_count": 150,
     "metadata": {},
     "output_type": "execute_result"
    }
   ],
   "source": [
    "from cellphonedb.utils import search_utils\n",
    "\n",
    "search_results = search_utils.search_analysis_results(\n",
    "    query_cell_types_1 = ['ST', 'TB'],  # List of cells 1, will be paired to cells 2 (list or 'All').\n",
    "    query_cell_types_2 = ['LSK'],     # List of cells 2, will be paired to cells 1 (list or 'All').\n",
    "    query_genes = ['COL12A1'],                                       # filter interactions based on the genes participating (list).\n",
    "    query_interactions = ['COL12A1_ITGA2B'],                            # filter intereactions based on their name (list).\n",
    "    significant_means = cpdb_results['significant_means'],          # significant_means file generated by CellphoneDB.\n",
    "    deconvoluted = cpdb_results['deconvoluted'],                    # devonvoluted file generated by CellphoneDB.\n",
    "    interaction_scores = cpdb_results['interaction_scores'],        # interaction score generated by CellphoneDB.\n",
    "    query_minimum_score = 50,                                       # minimum score that an interaction must have to be filtered.\n",
    "    separator = '|',                                                # separator (default: |) employed to split cells (cellA|cellB).\n",
    "    long_format = True,                                             # converts the output into a wide table, removing non-significant interactions\n",
    "    query_classifications = ['Signaling by Transforming growth factor']\n",
    ")\n",
    "\n",
    "search_results.head()\n"
   ]
  },
  {
   "cell_type": "code",
   "execution_count": 128,
   "id": "51edfdd7-b255-4a60-b4e0-116008fffb34",
   "metadata": {},
   "outputs": [],
   "source": [
    "metadata = pd.DataFrame({\n",
    "    'Cell': ['cell_type1', 'cell_type2', 'cell_type3'],\n",
    "    'cell_labels': ['TB', 'ST', 'LSK']\n",
    "})"
   ]
  },
  {
   "cell_type": "code",
   "execution_count": 129,
   "id": "6bb0b3a3-e518-4a82-85e9-6989a8b6ab5f",
   "metadata": {},
   "outputs": [],
   "source": [
    "metadata.to_csv('metadata.csv', index=False)"
   ]
  }
 ],
 "metadata": {
  "kernelspec": {
   "display_name": "cpdb",
   "language": "python",
   "name": "cpdb"
  },
  "language_info": {
   "codemirror_mode": {
    "name": "ipython",
    "version": 3
   },
   "file_extension": ".py",
   "mimetype": "text/x-python",
   "name": "python",
   "nbconvert_exporter": "python",
   "pygments_lexer": "ipython3",
   "version": "3.8.19"
  }
 },
 "nbformat": 4,
 "nbformat_minor": 5
}
